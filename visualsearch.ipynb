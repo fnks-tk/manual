{
 "cells": [
  {
   "cell_type": "code",
   "execution_count": 1,
   "id": "b9de450d-3ebf-4fa7-85e3-9dccb45aa1d2",
   "metadata": {},
   "outputs": [],
   "source": [
    "# Python 用 Bing Visual Search クライアント ライブラリのインストール"
   ]
  },
  {
   "cell_type": "markdown",
   "id": "0fa4dad0-2a70-4936-afcd-a4c102b4a634",
   "metadata": {},
   "source": [
    "https://docs.microsoft.com/ja-jp/azure/cognitive-services/bing-visual-search/quickstarts/client-libraries?pivots=programming-language-python"
   ]
  },
  {
   "cell_type": "code",
   "execution_count": 1,
   "id": "918deec1-afdc-4dc9-b74d-192f810c604d",
   "metadata": {},
   "outputs": [
    {
     "name": "stdout",
     "output_type": "stream",
     "text": [
      "Collecting azure-cognitiveservices-search-visualsearch\n",
      "  Downloading azure_cognitiveservices_search_visualsearch-0.2.0-py2.py3-none-any.whl (124 kB)\n",
      "     |████████████████████████████████| 124 kB 15.2 MB/s            \n",
      "\u001b[?25hCollecting msrest>=0.5.0\n",
      "  Downloading msrest-0.6.21-py2.py3-none-any.whl (85 kB)\n",
      "     |████████████████████████████████| 85 kB 5.9 MB/s             \n",
      "\u001b[?25hCollecting azure-common~=1.1\n",
      "  Downloading azure_common-1.1.28-py2.py3-none-any.whl (14 kB)\n",
      "Collecting isodate>=0.6.0\n",
      "  Downloading isodate-0.6.1-py2.py3-none-any.whl (41 kB)\n",
      "     |████████████████████████████████| 41 kB 1.1 MB/s             \n",
      "\u001b[?25hRequirement already satisfied: requests~=2.16 in /opt/conda/lib/python3.9/site-packages (from msrest>=0.5.0->azure-cognitiveservices-search-visualsearch) (2.26.0)\n",
      "Requirement already satisfied: certifi>=2017.4.17 in /opt/conda/lib/python3.9/site-packages (from msrest>=0.5.0->azure-cognitiveservices-search-visualsearch) (2021.10.8)\n",
      "Collecting requests-oauthlib>=0.5.0\n",
      "  Downloading requests_oauthlib-1.3.1-py2.py3-none-any.whl (23 kB)\n",
      "Requirement already satisfied: six in /opt/conda/lib/python3.9/site-packages (from isodate>=0.6.0->msrest>=0.5.0->azure-cognitiveservices-search-visualsearch) (1.16.0)\n",
      "Requirement already satisfied: idna<4,>=2.5 in /opt/conda/lib/python3.9/site-packages (from requests~=2.16->msrest>=0.5.0->azure-cognitiveservices-search-visualsearch) (3.1)\n",
      "Requirement already satisfied: charset-normalizer~=2.0.0 in /opt/conda/lib/python3.9/site-packages (from requests~=2.16->msrest>=0.5.0->azure-cognitiveservices-search-visualsearch) (2.0.0)\n",
      "Requirement already satisfied: urllib3<1.27,>=1.21.1 in /opt/conda/lib/python3.9/site-packages (from requests~=2.16->msrest>=0.5.0->azure-cognitiveservices-search-visualsearch) (1.26.7)\n",
      "Requirement already satisfied: oauthlib>=3.0.0 in /opt/conda/lib/python3.9/site-packages (from requests-oauthlib>=0.5.0->msrest>=0.5.0->azure-cognitiveservices-search-visualsearch) (3.1.1)\n",
      "Installing collected packages: requests-oauthlib, isodate, msrest, azure-common, azure-cognitiveservices-search-visualsearch\n",
      "Successfully installed azure-cognitiveservices-search-visualsearch-0.2.0 azure-common-1.1.28 isodate-0.6.1 msrest-0.6.21 requests-oauthlib-1.3.1\n"
     ]
    }
   ],
   "source": [
    "!python -m pip install azure-cognitiveservices-search-visualsearch"
   ]
  },
  {
   "cell_type": "code",
   "execution_count": 3,
   "id": "40a17a08-9735-4fec-9ad6-6661c8868cb0",
   "metadata": {},
   "outputs": [],
   "source": [
    "# 各種インポート"
   ]
  },
  {
   "cell_type": "code",
   "execution_count": 2,
   "id": "920ff0dd-e59c-4f38-a295-f898643c1905",
   "metadata": {},
   "outputs": [],
   "source": [
    "import http.client, urllib.parse\n",
    "import json\n",
    "import os.path\n",
    "from azure.cognitiveservices.search.visualsearch import VisualSearchClient\n",
    "from azure.cognitiveservices.search.visualsearch.models import (\n",
    "    VisualSearchRequest,\n",
    "    CropArea,\n",
    "    ImageInfo,\n",
    "    Filters,\n",
    "    KnowledgeRequest,\n",
    ")\n",
    "from msrest.authentication import CognitiveServicesCredentials"
   ]
  },
  {
   "cell_type": "code",
   "execution_count": 9,
   "id": "73964782-4af2-4e59-a69b-7eadc515e08a",
   "metadata": {},
   "outputs": [],
   "source": [
    "subscription_key = '3e9ca2f3f8884853b177a9d1854231b0'\n",
    "PATH = './image/'\n",
    "image_path = os.path.join(PATH, \"image02.jpg\")"
   ]
  },
  {
   "cell_type": "code",
   "execution_count": 10,
   "id": "8b2c2468-6194-43be-aed2-705c63ba1836",
   "metadata": {},
   "outputs": [],
   "source": [
    "#クライアントのインスタンス化"
   ]
  },
  {
   "cell_type": "code",
   "execution_count": 11,
   "id": "dcdd8128-febf-4ea7-8496-d586567bdf4b",
   "metadata": {},
   "outputs": [],
   "source": [
    "client = VisualSearchClient(endpoint=\"https://api.cognitive.microsoft.com\", credentials=CognitiveServicesCredentials(subscription_key))"
   ]
  },
  {
   "cell_type": "code",
   "execution_count": 12,
   "id": "d3a70de7-f747-40e8-92b0-d195211e9c49",
   "metadata": {},
   "outputs": [],
   "source": [
    "# クエリ送信"
   ]
  },
  {
   "cell_type": "code",
   "execution_count": 13,
   "id": "cb63db9c-c2f6-482e-b7a1-2679df0fd038",
   "metadata": {},
   "outputs": [
    {
     "name": "stdout",
     "output_type": "stream",
     "text": [
      "\n",
      "Search visual search request with binary of dog image\n"
     ]
    },
    {
     "ename": "ErrorResponseException",
     "evalue": "Operation returned an invalid status code 'Access Denied'",
     "output_type": "error",
     "traceback": [
      "\u001b[0;31m---------------------------------------------------------------------------\u001b[0m",
      "\u001b[0;31mErrorResponseException\u001b[0m                    Traceback (most recent call last)",
      "\u001b[0;32m/tmp/ipykernel_805/2470620406.py\u001b[0m in \u001b[0;36m<module>\u001b[0;34m\u001b[0m\n\u001b[1;32m      4\u001b[0m \u001b[0;34m\u001b[0m\u001b[0m\n\u001b[1;32m      5\u001b[0m     \u001b[0mprint\u001b[0m\u001b[0;34m(\u001b[0m\u001b[0;34m\"\\r\\nSearch visual search request with binary of dog image\"\u001b[0m\u001b[0;34m)\u001b[0m\u001b[0;34m\u001b[0m\u001b[0;34m\u001b[0m\u001b[0m\n\u001b[0;32m----> 6\u001b[0;31m     \u001b[0mresult\u001b[0m \u001b[0;34m=\u001b[0m \u001b[0mclient\u001b[0m\u001b[0;34m.\u001b[0m\u001b[0mimages\u001b[0m\u001b[0;34m.\u001b[0m\u001b[0mvisual_search\u001b[0m\u001b[0;34m(\u001b[0m\u001b[0mimage\u001b[0m\u001b[0;34m=\u001b[0m\u001b[0mimage_fd\u001b[0m\u001b[0;34m,\u001b[0m \u001b[0mknowledge_request\u001b[0m\u001b[0;34m=\u001b[0m\u001b[0mknowledge_request\u001b[0m\u001b[0;34m)\u001b[0m\u001b[0;34m\u001b[0m\u001b[0;34m\u001b[0m\u001b[0m\n\u001b[0m",
      "\u001b[0;32m/opt/conda/lib/python3.9/site-packages/azure/cognitiveservices/search/visualsearch/operations/images_operations.py\u001b[0m in \u001b[0;36mvisual_search\u001b[0;34m(self, accept_language, content_type, user_agent, client_id, client_ip, location, market, safe_search, set_lang, knowledge_request, image, custom_headers, raw, **operation_config)\u001b[0m\n\u001b[1;32m    294\u001b[0m \u001b[0;34m\u001b[0m\u001b[0m\n\u001b[1;32m    295\u001b[0m         \u001b[0;32mif\u001b[0m \u001b[0mresponse\u001b[0m\u001b[0;34m.\u001b[0m\u001b[0mstatus_code\u001b[0m \u001b[0;32mnot\u001b[0m \u001b[0;32min\u001b[0m \u001b[0;34m[\u001b[0m\u001b[0;36m200\u001b[0m\u001b[0;34m]\u001b[0m\u001b[0;34m:\u001b[0m\u001b[0;34m\u001b[0m\u001b[0;34m\u001b[0m\u001b[0m\n\u001b[0;32m--> 296\u001b[0;31m             \u001b[0;32mraise\u001b[0m \u001b[0mmodels\u001b[0m\u001b[0;34m.\u001b[0m\u001b[0mErrorResponseException\u001b[0m\u001b[0;34m(\u001b[0m\u001b[0mself\u001b[0m\u001b[0;34m.\u001b[0m\u001b[0m_deserialize\u001b[0m\u001b[0;34m,\u001b[0m \u001b[0mresponse\u001b[0m\u001b[0;34m)\u001b[0m\u001b[0;34m\u001b[0m\u001b[0;34m\u001b[0m\u001b[0m\n\u001b[0m\u001b[1;32m    297\u001b[0m \u001b[0;34m\u001b[0m\u001b[0m\n\u001b[1;32m    298\u001b[0m         \u001b[0mdeserialized\u001b[0m \u001b[0;34m=\u001b[0m \u001b[0;32mNone\u001b[0m\u001b[0;34m\u001b[0m\u001b[0;34m\u001b[0m\u001b[0m\n",
      "\u001b[0;31mErrorResponseException\u001b[0m: Operation returned an invalid status code 'Access Denied'"
     ]
    }
   ],
   "source": [
    "with open(image_path, \"rb\") as image_fd:\n",
    "    # You need to pass the serialized form of the model\n",
    "    knowledge_request = json.dumps(VisualSearchRequest().serialize())\n",
    "\n",
    "    print(\"\\r\\nSearch visual search request with binary of dog image\")\n",
    "    result = client.images.visual_search(image=image_fd, knowledge_request=knowledge_request)"
   ]
  },
  {
   "cell_type": "code",
   "execution_count": 8,
   "id": "9fb8f823-6f30-45d6-8200-d06aa69d669e",
   "metadata": {},
   "outputs": [
    {
     "ename": "NameError",
     "evalue": "name 'result' is not defined",
     "output_type": "error",
     "traceback": [
      "\u001b[0;31m---------------------------------------------------------------------------\u001b[0m",
      "\u001b[0;31mNameError\u001b[0m                                 Traceback (most recent call last)",
      "\u001b[0;32m/tmp/ipykernel_805/3692445423.py\u001b[0m in \u001b[0;36m<module>\u001b[0;34m\u001b[0m\n\u001b[0;32m----> 1\u001b[0;31m \u001b[0;32mif\u001b[0m \u001b[0;32mnot\u001b[0m \u001b[0mresult\u001b[0m\u001b[0;34m:\u001b[0m\u001b[0;34m\u001b[0m\u001b[0;34m\u001b[0m\u001b[0m\n\u001b[0m\u001b[1;32m      2\u001b[0m     \u001b[0mprint\u001b[0m\u001b[0;34m(\u001b[0m\u001b[0;34m\"No visual search result data.\"\u001b[0m\u001b[0;34m)\u001b[0m\u001b[0;34m\u001b[0m\u001b[0;34m\u001b[0m\u001b[0m\n\u001b[1;32m      3\u001b[0m     \u001b[0;31m# Visual Search results\u001b[0m\u001b[0;34m\u001b[0m\u001b[0;34m\u001b[0m\u001b[0m\n\u001b[1;32m      4\u001b[0m     \u001b[0;32mif\u001b[0m \u001b[0mresult\u001b[0m\u001b[0;34m.\u001b[0m\u001b[0mimage\u001b[0m\u001b[0;34m.\u001b[0m\u001b[0mimage_insights_token\u001b[0m\u001b[0;34m:\u001b[0m\u001b[0;34m\u001b[0m\u001b[0;34m\u001b[0m\u001b[0m\n\u001b[1;32m      5\u001b[0m         \u001b[0mprint\u001b[0m\u001b[0;34m(\u001b[0m\u001b[0;34m\"Uploaded image insights token: {}\"\u001b[0m\u001b[0;34m.\u001b[0m\u001b[0mformat\u001b[0m\u001b[0;34m(\u001b[0m\u001b[0mresult\u001b[0m\u001b[0;34m.\u001b[0m\u001b[0mimage\u001b[0m\u001b[0;34m.\u001b[0m\u001b[0mimage_insights_token\u001b[0m\u001b[0;34m)\u001b[0m\u001b[0;34m)\u001b[0m\u001b[0;34m\u001b[0m\u001b[0;34m\u001b[0m\u001b[0m\n",
      "\u001b[0;31mNameError\u001b[0m: name 'result' is not defined"
     ]
    }
   ],
   "source": [
    "if not result:\n",
    "    print(\"No visual search result data.\")\n",
    "    # Visual Search results\n",
    "    if result.image.image_insights_token:\n",
    "        print(\"Uploaded image insights token: {}\".format(result.image.image_insights_token))\n",
    "    else:\n",
    "        print(\"Couldn't find image insights token!\")\n",
    "\n",
    "        # List of tags\n",
    "    if result.tags:\n",
    "        first_tag = result.tags[0]\n",
    "        print(\"Visual search tag count: {}\".format(len(result.tags)))\n",
    "\n",
    "        # List of actions in first tag\n",
    "        if first_tag.actions:\n",
    "            first_tag_action = first_tag.actions[0]\n",
    "            print(\"First tag action count: {}\".format(len(first_tag.actions)))\n",
    "            print(\"First tag action type: {}\".format(first_tag_action.action_type))\n",
    "        else:\n",
    "            print(\"Couldn't find tag actions!\")\n",
    "    else:\n",
    "        print(\"Couldn't find image tags!\")"
   ]
  },
  {
   "cell_type": "code",
   "execution_count": null,
   "id": "ad97b26b-8462-4b44-a84e-c1c0f3aa93fb",
   "metadata": {},
   "outputs": [],
   "source": []
  }
 ],
 "metadata": {
  "kernelspec": {
   "display_name": "Python 3 (ipykernel)",
   "language": "python",
   "name": "python3"
  },
  "language_info": {
   "codemirror_mode": {
    "name": "ipython",
    "version": 3
   },
   "file_extension": ".py",
   "mimetype": "text/x-python",
   "name": "python",
   "nbconvert_exporter": "python",
   "pygments_lexer": "ipython3",
   "version": "3.9.7"
  }
 },
 "nbformat": 4,
 "nbformat_minor": 5
}
